{
 "cells": [
  {
   "cell_type": "code",
   "execution_count": 1,
   "metadata": {},
   "outputs": [],
   "source": [
    "# Importing the libraries\n",
    "\n",
    "import pandas as pd\n",
    "import nltk\n",
    "import matplotlib.pyplot as plt\n",
    "import seaborn as sns\n",
    "import numpy as np"
   ]
  },
  {
   "cell_type": "code",
   "execution_count": 2,
   "metadata": {},
   "outputs": [],
   "source": [
    "import warnings\n",
    "\n",
    "def fxn():\n",
    "    warnings.warn(\"deprecated\", DeprecationWarning)\n",
    "\n",
    "with warnings.catch_warnings():\n",
    "    warnings.simplefilter(\"ignore\")\n",
    "    fxn()\n",
    "warnings.filterwarnings(\"ignore\")"
   ]
  },
  {
   "cell_type": "code",
   "execution_count": 3,
   "metadata": {},
   "outputs": [],
   "source": [
    "# Defining a function to plot the Mendenhall's Characteristic Curves of Composition \n",
    "\n",
    "def mendenhall_curve(df):\n",
    "    str_df = \" \"\n",
    "    for i in range(0,len(df)):\n",
    "        str_df = str_df + df['Title'][i]\n",
    "    df_token = []\n",
    "    df_token_dist = [] \n",
    "    tokens = nltk.word_tokenize(str_df) \n",
    "    df_token = ([token for token in tokens if any(c.isalpha() for c in token)])\n",
    "    token_lengths = [len(token) for token in df_token]\n",
    "    df_token_dist = nltk.FreqDist(token_lengths)\n",
    "    plt.figure(figsize=(10,7))\n",
    "    df_token_dist.plot(20)    "
   ]
  },
  {
   "cell_type": "code",
   "execution_count": 4,
   "metadata": {},
   "outputs": [],
   "source": [
    "# Defining a function to add columns corresponding to the universal tagset in the pos_tag function \n",
    "\n",
    "def pos_tag_insert(df):\n",
    "    a = []\n",
    "    for i in range(0,len(df)):\n",
    "        a.append(0)\n",
    "    df.insert(0,\"ADJ\",a)\n",
    "    df.insert(0,\"ADP\",a)\n",
    "    df.insert(0,\"ADV\",a)\n",
    "    df.insert(0,\"CONJ\",a)\n",
    "    df.insert(0,\"DET\",a)\n",
    "    df.insert(0,\"NOUN\",a)\n",
    "    df.insert(0,\"NUM\",a)\n",
    "    df.insert(0,\"PRT\",a)\n",
    "    df.insert(0,\"PRON\",a)\n",
    "    df.insert(0,\"VERB\",a)\n",
    "    df.insert(0,\".\",a)\n",
    "    df.insert(0,\"X\",a)\n",
    "    df.insert(0,\"NoOfWords\",a)\n",
    "    df.insert(0,\"NoOfChar\",a)"
   ]
  },
  {
   "cell_type": "code",
   "execution_count": 5,
   "metadata": {},
   "outputs": [],
   "source": [
    "def word_char(df):\n",
    "    for i in range(0,len(df)):\n",
    "        char = 0\n",
    "        word = 1\n",
    "        string = df['Title'][i]\n",
    "        for j in string:\n",
    "            char = char +1\n",
    "            if (j == ' '):\n",
    "                word = word + 1\n",
    "        df['NoOfWords'][i] = word\n",
    "        df['NoOfChar'][i] = char"
   ]
  },
  {
   "cell_type": "code",
   "execution_count": 6,
   "metadata": {},
   "outputs": [],
   "source": [
    "# Defining a function to tokenize the titles in the dataset and perform pos tagging on it.\n",
    "\n",
    "def tokenize(df):\n",
    "    pos_df = []\n",
    "    for i in range(0,len(df)):\n",
    "        tokens = []\n",
    "        tokens = nltk.word_tokenize(df['Title'][i])\n",
    "        pos_df.append(nltk.pos_tag(tokens,tagset = 'universal'))\n",
    "    return pos_df    "
   ]
  },
  {
   "cell_type": "code",
   "execution_count": 7,
   "metadata": {},
   "outputs": [],
   "source": [
    "# Defining a function to create the dataframe of the pos_tags corresponding to each title.\n",
    "\n",
    "def pos_tag(df,pos_df):\n",
    "    for i in range(0,len(df)):\n",
    "        for j in range(0,len(pos_df[i])):\n",
    "            if pos_df[i][j][1] == \"X\" :\n",
    "                df[\"X\"][i] = df[\"X\"][i] + 1\n",
    "            if pos_df[i][j][1] == \".\" :\n",
    "                df[\".\"][i] = df[\".\"][i] + 1\n",
    "            if pos_df[i][j][1] == \"VERB\" :\n",
    "                df[\"VERB\"][i] = df[\"VERB\"][i] + 1\n",
    "            if pos_df[i][j][1] == \"PRON\" :\n",
    "                df[\"PRON\"][i] = df[\"PRON\"][i] + 1\n",
    "            if pos_df[i][j][1] == \"PRT\" :\n",
    "                df[\"PRT\"][i] = df[\"PRT\"][i] + 1\n",
    "            if pos_df[i][j][1] == \"NUM\" :\n",
    "                df[\"NUM\"][i] = df[\"NUM\"][i] + 1\n",
    "            if pos_df[i][j][1] == \"NOUN\" :\n",
    "                df[\"NOUN\"][i] = df[\"NOUN\"][i] + 1\n",
    "            if pos_df[i][j][1] == \"DET\" :\n",
    "                df[\"DET\"][i] = df[\"DET\"][i] + 1\n",
    "            if pos_df[i][j][1] == \"CONJ\" :\n",
    "                df[\"CONJ\"][i] = df[\"CONJ\"][i] + 1\n",
    "            if pos_df[i][j][1] == \"ADV\" :\n",
    "                df[\"ADV\"][i] = df[\"ADV\"][i] + 1\n",
    "            if pos_df[i][j][1] == \"ADP\" :\n",
    "                df[\"ADP\"][i] = df[\"ADP\"][i] + 1\n",
    "            if pos_df[i][j][1] == \"ADJ\" :\n",
    "                df[\"ADJ\"][i] = df[\"ADJ\"][i] + 1"
   ]
  },
  {
   "cell_type": "code",
   "execution_count": 8,
   "metadata": {},
   "outputs": [],
   "source": [
    "features = ['ADJ', \n",
    "'ADP', \n",
    "'ADV', \n",
    "'CONJ',    \n",
    "'DET', \n",
    "'NOUN',  \n",
    "'NUM', \n",
    "'PRT',\n",
    "'PRON',    \n",
    "'VERB',    \n",
    "'.',   \n",
    "'X' ]"
   ]
  },
  {
   "cell_type": "code",
   "execution_count": 9,
   "metadata": {},
   "outputs": [],
   "source": [
    "def tag_plot(df):\n",
    "    pos_tag_insert(df)\n",
    "    pos = []\n",
    "    pos = tokenize(df)\n",
    "    pos_tag(df,pos)\n",
    "    plt.figure(figsize=(10,7))\n",
    "    sns.barplot(x = features,y = df[features].sum(axis=0))"
   ]
  },
  {
   "cell_type": "code",
   "execution_count": 10,
   "metadata": {},
   "outputs": [],
   "source": [
    "# Reading the datasets\n",
    "\n",
    "fake = pd.read_csv('Fake.csv')\n",
    "true = pd.read_csv('True.csv')\n",
    "liar_train = pd.read_csv('LIAR_train.csv',encoding = 'latin-1')\n",
    "liar_test = pd.read_csv('LIAR_test.csv',encoding = 'latin-1')\n",
    "liar_val = pd.read_csv(\"LIAR_val.csv\",encoding = 'latin-1')"
   ]
  },
  {
   "cell_type": "code",
   "execution_count": 11,
   "metadata": {},
   "outputs": [],
   "source": [
    "fake['Title'] = fake['title']\n",
    "fake.drop(['title','subject','date','text'],axis=1,inplace=True)\n"
   ]
  },
  {
   "cell_type": "code",
   "execution_count": 12,
   "metadata": {},
   "outputs": [],
   "source": [
    "true['Title'] = true['title']\n",
    "true.drop(['title','subject','date','text'],axis=1,inplace=True)"
   ]
  },
  {
   "cell_type": "code",
   "execution_count": 13,
   "metadata": {},
   "outputs": [],
   "source": [
    "# defining a function to change the labels in the Liar datasets to a binary classification \n",
    "\n",
    "def label(df):\n",
    "    for i  in range(0,len(df)):\n",
    "        if df['Label'][i] == 'barely-true' :\n",
    "            df['Label'][i] = int(0)\n",
    "        if df['Label'][i] == 'pants-fire' :\n",
    "            df['Label'][i] = int(0)\n",
    "        if df['Label'][i] == 'FALSE' :\n",
    "            df['Label'][i] = int(0)\n",
    "        if df['Label'][i] == 'half-true' :\n",
    "            df['Label'][i] = int(0)\n",
    "        if df['Label'][i] == 'TRUE' :\n",
    "            df['Label'][i] = int(1)\n",
    "        if df['Label'][i] == 'mostly-true' :\n",
    "            df['Label'][i] = int(1)"
   ]
  },
  {
   "cell_type": "code",
   "execution_count": 14,
   "metadata": {},
   "outputs": [],
   "source": [
    "label(liar_test)\n",
    "label(liar_val)\n",
    "label(liar_train)  "
   ]
  },
  {
   "cell_type": "code",
   "execution_count": 15,
   "metadata": {},
   "outputs": [],
   "source": [
    "# Changing the datatype of the Label column in the LIAR datasets to integer.\n",
    "liar_test['Label'] = liar_test.Label.astype('int64')\n",
    "liar_train['Label'] = liar_train.Label.astype('int64')\n",
    "liar_val['Label'] = liar_val.Label.astype('int64') "
   ]
  },
  {
   "cell_type": "code",
   "execution_count": 16,
   "metadata": {},
   "outputs": [],
   "source": [
    "# Dropping all the columns except title and label.\n",
    "liar_train.drop(['1','2','3','4','5','6','7','8','9','Author','type'],axis=1,inplace=True)\n",
    "liar_test.drop(['1','2','3','4','5','6','7','8','9','Author','Type'],axis=1,inplace=True)\n",
    "liar_val.drop(['1','2','3','4','5','6','7','8','9','author','Type'],axis=1,inplace=True)"
   ]
  },
  {
   "cell_type": "code",
   "execution_count": 17,
   "metadata": {},
   "outputs": [],
   "source": [
    "liar = pd.concat([liar_train,liar_val,liar_test])\n",
    "liar.reset_index(drop=True,inplace=True)"
   ]
  },
  {
   "cell_type": "code",
   "execution_count": 18,
   "metadata": {},
   "outputs": [],
   "source": [
    "#Separating the fake and true news into separate datasets.\n",
    "liar_fake = liar[liar['Label'] == 0] \n",
    "liar_true = liar[liar['Label'] == 1]"
   ]
  },
  {
   "cell_type": "code",
   "execution_count": 19,
   "metadata": {},
   "outputs": [],
   "source": [
    "liar_fake.reset_index(inplace=True,drop=True)\n",
    "liar_true.reset_index(inplace=True,drop=True)"
   ]
  },
  {
   "cell_type": "code",
   "execution_count": 20,
   "metadata": {},
   "outputs": [
    {
     "data": {
      "image/png": "[encoded data removed]",
      "text/plain": [
       "<Figure size 720x504 with 1 Axes>"
      ]
     },
     "metadata": {
      "needs_background": "light"
     },
     "output_type": "display_data"
    },
    {
     "data": {
      "image/png": "[encoded data removed]",
      "text/plain": [
       "<Figure size 720x504 with 1 Axes>"
      ]
     },
     "metadata": {
      "needs_background": "light"
     },
     "output_type": "display_data"
    },
    {
     "data": {
      "image/png": "[encoded data removed]",
      "text/plain": [
       "<Figure size 720x504 with 1 Axes>"
      ]
     },
     "metadata": {
      "needs_background": "light"
     },
     "output_type": "display_data"
    },
    {
     "data": {
      "image/png": "[encoded data removed]",
      "text/plain": [
       "<Figure size 720x504 with 1 Axes>"
      ]
     },
     "metadata": {
      "needs_background": "light"
     },
     "output_type": "display_data"
    }
   ],
   "source": [
    "for df in [fake,true,liar_fake,liar_true]:\n",
    "    mendenhall_curve(df)"
   ]
  },
  {
   "cell_type": "code",
   "execution_count": 21,
   "metadata": {},
   "outputs": [
    {
     "data": {
      "image/png": "[encoded data removed]",
      "text/plain": [
       "<Figure size 720x504 with 1 Axes>"
      ]
     },
     "metadata": {
      "needs_background": "light"
     },
     "output_type": "display_data"
    },
    {
     "data": {
      "image/png": "[encoded data removed]",
      "text/plain": [
       "<Figure size 720x504 with 1 Axes>"
      ]
     },
     "metadata": {
      "needs_background": "light"
     },
     "output_type": "display_data"
    },
    {
     "data": {
      "image/png": "[encoded data removed]",
      "text/plain": [
       "<Figure size 720x504 with 1 Axes>"
      ]
     },
     "metadata": {
      "needs_background": "light"
     },
     "output_type": "display_data"
    },
    {
     "data": {
      "image/png": "[encoded data removed]",
      "text/plain": [
       "<Figure size 720x504 with 1 Axes>"
      ]
     },
     "metadata": {
      "needs_background": "light"
     },
     "output_type": "display_data"
    }
   ],
   "source": [
    "# Plotting the barplots for the datasets with the features in the x-axis.\n",
    "for df in [fake,true,liar_fake,liar_true]:\n",
    "    tag_plot(df)"
   ]
  },
  {
   "cell_type": "code",
   "execution_count": 22,
   "metadata": {},
   "outputs": [],
   "source": [
    "# Adding new column to true news dataset which labels the true news as 1 \n",
    "label = []\n",
    "for i in range(0,len(fake)):\n",
    "    label.append(0)\n",
    "fake['label'] = label   "
   ]
  },
  {
   "cell_type": "code",
   "execution_count": 23,
   "metadata": {},
   "outputs": [],
   "source": [
    "# Adding new column to fake news dataset which labels the fake news as 0 \n",
    "label = []\n",
    "for i in range(0,len(true)):\n",
    "    label.append(1)\n",
    "true['label'] = label"
   ]
  },
  {
   "cell_type": "code",
   "execution_count": 25,
   "metadata": {},
   "outputs": [],
   "source": [
    "for df in [liar_train,liar_val,liar_test]:\n",
    "    pos_tag_insert(df)"
   ]
  },
  {
   "cell_type": "code",
   "execution_count": 26,
   "metadata": {},
   "outputs": [],
   "source": [
    "# Adding 2 new columns- Number of words and number of characters\n",
    "for df in [fake,true,liar_train,liar_val,liar_test]:\n",
    "    word_char(df)"
   ]
  },
  {
   "cell_type": "code",
   "execution_count": 27,
   "metadata": {},
   "outputs": [],
   "source": [
    "for df in [liar_train,liar_val,liar_test]:\n",
    "    pos=[]\n",
    "    pos = tokenize(df)\n",
    "    pos_tag(df,pos)"
   ]
  },
  {
   "cell_type": "code",
   "execution_count": 28,
   "metadata": {},
   "outputs": [],
   "source": [
    "news = pd.concat([fake,true])\n",
    "news.reset_index(drop=True,inplace=True) "
   ]
  },
  {
   "cell_type": "code",
   "execution_count": 29,
   "metadata": {},
   "outputs": [],
   "source": [
    "liar = pd.concat([liar_train,liar_val,liar_test])\n",
    "liar.reset_index(drop=True,inplace=True)"
   ]
  },
  {
   "cell_type": "code",
   "execution_count": 30,
   "metadata": {},
   "outputs": [],
   "source": [
    "import re\n",
    "from nltk.corpus import stopwords\n",
    "from nltk.stem.porter import PorterStemmer"
   ]
  },
  {
   "cell_type": "markdown",
   "metadata": {},
   "source": [
    "Cleaning the text data and processing it - Removing all punctuation and numbers, making all words lowercase and stemming"
   ]
  },
  {
   "cell_type": "code",
   "execution_count": 31,
   "metadata": {},
   "outputs": [],
   "source": [
    "ps = PorterStemmer()\n",
    "corpus_isot=[]\n",
    "for i in range(0,len(news)):\n",
    "    review_data = re.sub('[^a-zA-Z]',' ',news['Title'][i])    \n",
    "    review_data = review_data.lower()\n",
    "    review_data = review_data.split()\n",
    "    \n",
    "    review_data = [ps.stem(word) for word in review_data if not word in stopwords.words('english')]\n",
    "    review_data = \" \".join(review_data)\n",
    "    corpus_isot.append(review_data)"
   ]
  },
  {
   "cell_type": "code",
   "execution_count": 32,
   "metadata": {},
   "outputs": [],
   "source": [
    "ps = PorterStemmer()\n",
    "corpus_liar=[]\n",
    "for i in range(0,len(liar)):\n",
    "    review_data = re.sub('[^a-zA-Z]',' ',liar['Title'][i])    \n",
    "    review_data = review_data.lower()\n",
    "    review_data = review_data.split()\n",
    "    \n",
    "    review_data = [ps.stem(word) for word in review_data if not word in stopwords.words('english')]\n",
    "    review_data = \" \".join(review_data)\n",
    "    corpus_liar.append(review_data)"
   ]
  },
  {
   "cell_type": "code",
   "execution_count": 33,
   "metadata": {},
   "outputs": [],
   "source": [
    "liar['Title'] = corpus_liar "
   ]
  },
  {
   "cell_type": "code",
   "execution_count": 34,
   "metadata": {},
   "outputs": [],
   "source": [
    "news['Title'] = corpus_isot"
   ]
  },
  {
   "cell_type": "markdown",
   "metadata": {},
   "source": [
    "Combining all the columns into one column News"
   ]
  },
  {
   "cell_type": "code",
   "execution_count": 35,
   "metadata": {},
   "outputs": [],
   "source": [
    "news['News'] = str(news['X'] + news['.'] + news['VERB'] + news['PRON'] + news['PRT'] + news['NUM'] + news['NOUN'] + news['DET'] + news['CONJ'] + news['ADV'] + news['ADP'] + news['ADJ'] + news['NoOfWords'] + news['NoOfChar']) + news['Title']"
   ]
  },
  {
   "cell_type": "code",
   "execution_count": 36,
   "metadata": {},
   "outputs": [],
   "source": [
    "liar['News'] = str(liar['X'] + liar['.'] + liar['VERB'] + liar['PRON'] + liar['PRT'] + liar['NUM'] + liar['NOUN'] + liar['DET'] + liar['CONJ'] + liar['ADV'] + liar['ADP'] + liar['ADJ'] + liar['NoOfWords'] + liar['NoOfChar']) + liar['Title']"
   ]
  },
  {
   "cell_type": "code",
   "execution_count": 37,
   "metadata": {},
   "outputs": [],
   "source": [
    "from sklearn.model_selection import train_test_split\n",
    "from sklearn.linear_model import LogisticRegression\n",
    "from sklearn.naive_bayes import MultinomialNB\n",
    "from sklearn.metrics import accuracy_score"
   ]
  },
  {
   "cell_type": "markdown",
   "metadata": {},
   "source": [
    "Training on ISOT data and testing on Liar data "
   ]
  },
  {
   "cell_type": "code",
   "execution_count": 38,
   "metadata": {},
   "outputs": [],
   "source": [
    "# Performing tf-idf vectorization on the News column\n",
    "from sklearn.feature_extraction.text import TfidfVectorizer\n",
    "vectorizer = TfidfVectorizer(analyzer = 'word') \n",
    "X_i = vectorizer.fit_transform(news['News'])\n",
    "X_l = vectorizer.transform(liar['News'])\n",
    "X_train_i,X_test_i,y_train_i,y_test_i = train_test_split(X_i,news['label'])\n"
   ]
  },
  {
   "cell_type": "code",
   "execution_count": 39,
   "metadata": {},
   "outputs": [],
   "source": [
    "y_liar = liar['Label']"
   ]
  },
  {
   "cell_type": "code",
   "execution_count": 40,
   "metadata": {},
   "outputs": [
    {
     "data": {
      "text/plain": [
       "MultinomialNB()"
      ]
     },
     "execution_count": 40,
     "metadata": {},
     "output_type": "execute_result"
    }
   ],
   "source": [
    "model_nb_isot = MultinomialNB()\n",
    "model_nb_isot.fit(X_train_i,y_train_i) "
   ]
  },
  {
   "cell_type": "code",
   "execution_count": 41,
   "metadata": {},
   "outputs": [
    {
     "name": "stdout",
     "output_type": "stream",
     "text": [
      "0.9355011135857461 0.5733873480835151\n"
     ]
    }
   ],
   "source": [
    "print(accuracy_score(y_test_i,model_nb_isot.predict(X_test_i)),accuracy_score(y_liar,model_nb_isot.predict(X_l))) "
   ]
  },
  {
   "cell_type": "code",
   "execution_count": 42,
   "metadata": {},
   "outputs": [
    {
     "data": {
      "text/plain": [
       "LogisticRegression()"
      ]
     },
     "execution_count": 42,
     "metadata": {},
     "output_type": "execute_result"
    }
   ],
   "source": [
    "model_log_isot = LogisticRegression()\n",
    "model_log_isot.fit(X_train_i,y_train_i)"
   ]
  },
  {
   "cell_type": "code",
   "execution_count": 43,
   "metadata": {},
   "outputs": [
    {
     "name": "stdout",
     "output_type": "stream",
     "text": [
      "0.9435189309576837 0.6456840137114366\n"
     ]
    }
   ],
   "source": [
    "print(accuracy_score(y_test_i,model_log_isot.predict(X_test_i)),accuracy_score(y_liar,model_log_isot.predict(X_l))) "
   ]
  },
  {
   "cell_type": "code",
   "execution_count": 44,
   "metadata": {},
   "outputs": [
    {
     "data": {
      "text/plain": [
       "KNeighborsClassifier()"
      ]
     },
     "execution_count": 44,
     "metadata": {},
     "output_type": "execute_result"
    }
   ],
   "source": [
    "from sklearn.neighbors import KNeighborsClassifier\n",
    "model_kn_isot = KNeighborsClassifier(n_neighbors=5)\n",
    "model_kn_isot.fit(X_train_i,y_train_i)"
   ]
  },
  {
   "cell_type": "code",
   "execution_count": 45,
   "metadata": {},
   "outputs": [
    {
     "name": "stdout",
     "output_type": "stream",
     "text": [
      "0.8876614699331848 0.5204113430975382\n"
     ]
    }
   ],
   "source": [
    "print(accuracy_score(y_test_i,model_kn_isot.predict(X_test_i)),accuracy_score(y_liar,model_kn_isot.predict(X_l))) "
   ]
  },
  {
   "cell_type": "code",
   "execution_count": 46,
   "metadata": {},
   "outputs": [
    {
     "data": {
      "text/plain": [
       "XGBClassifier(base_score=0.5, booster='gbtree', colsample_bylevel=1,\n",
       "              colsample_bynode=1, colsample_bytree=1, gamma=0, gpu_id=-1,\n",
       "              importance_type='gain', interaction_constraints='',\n",
       "              learning_rate=0.300000012, max_delta_step=0, max_depth=6,\n",
       "              min_child_weight=1, missing=nan, monotone_constraints='()',\n",
       "              n_estimators=100, n_jobs=0, num_parallel_tree=1, random_state=0,\n",
       "              reg_alpha=0, reg_lambda=1, scale_pos_weight=1, subsample=1,\n",
       "              tree_method='exact', validate_parameters=1, verbosity=None)"
      ]
     },
     "execution_count": 46,
     "metadata": {},
     "output_type": "execute_result"
    }
   ],
   "source": [
    "from xgboost import XGBClassifier\n",
    "model_xgb_isot = XGBClassifier()\n",
    "model_xgb_isot.fit(X_train_i,y_train_i)"
   ]
  },
  {
   "cell_type": "code",
   "execution_count": 47,
   "metadata": {},
   "outputs": [
    {
     "name": "stdout",
     "output_type": "stream",
     "text": [
      "0.9071714922048998 0.6463851667186039\n"
     ]
    }
   ],
   "source": [
    "print(accuracy_score(y_test_i,model_xgb_isot.predict(X_test_i)),accuracy_score(y_liar,model_xgb_isot.predict(X_l))) "
   ]
  },
  {
   "cell_type": "code",
   "execution_count": 48,
   "metadata": {},
   "outputs": [
    {
     "data": {
      "text/plain": [
       "RandomForestClassifier()"
      ]
     },
     "execution_count": 48,
     "metadata": {},
     "output_type": "execute_result"
    }
   ],
   "source": [
    "from sklearn.ensemble import RandomForestClassifier\n",
    "model_rf_isot = RandomForestClassifier()\n",
    "model_rf_isot.fit(X_train_i,y_train_i)"
   ]
  },
  {
   "cell_type": "code",
   "execution_count": 49,
   "metadata": {},
   "outputs": [
    {
     "name": "stdout",
     "output_type": "stream",
     "text": [
      "0.9140311804008908 0.6468526020567155\n"
     ]
    }
   ],
   "source": [
    "print(accuracy_score(y_test_i,model_rf_isot.predict(X_test_i)),accuracy_score(y_liar,model_rf_isot.predict(X_l))) "
   ]
  },
  {
   "cell_type": "code",
   "execution_count": 50,
   "metadata": {},
   "outputs": [
    {
     "data": {
      "text/plain": [
       "DecisionTreeClassifier()"
      ]
     },
     "execution_count": 50,
     "metadata": {},
     "output_type": "execute_result"
    }
   ],
   "source": [
    "from sklearn.tree import DecisionTreeClassifier\n",
    "model_dt_isot = DecisionTreeClassifier()\n",
    "model_dt_isot.fit(X_train_i,y_train_i)"
   ]
  },
  {
   "cell_type": "code",
   "execution_count": 51,
   "metadata": {},
   "outputs": [
    {
     "name": "stdout",
     "output_type": "stream",
     "text": [
      "0.892293986636971 0.633219071361795\n"
     ]
    }
   ],
   "source": [
    "print(accuracy_score(y_test_i,model_dt_isot.predict(X_test_i)),accuracy_score(y_liar,model_dt_isot.predict(X_l))) "
   ]
  },
  {
   "cell_type": "code",
   "execution_count": 52,
   "metadata": {},
   "outputs": [
    {
     "data": {
      "text/plain": [
       "SVC()"
      ]
     },
     "execution_count": 52,
     "metadata": {},
     "output_type": "execute_result"
    }
   ],
   "source": [
    "from sklearn.svm import SVC\n",
    "model_svm_isot = SVC()\n",
    "model_svm_isot.fit(X_train_i,y_train_i)"
   ]
  },
  {
   "cell_type": "code",
   "execution_count": 53,
   "metadata": {},
   "outputs": [
    {
     "name": "stdout",
     "output_type": "stream",
     "text": [
      "0.9546547884187082 0.6454502960423808\n"
     ]
    }
   ],
   "source": [
    "print(accuracy_score(y_test_i,model_svm_isot.predict(X_test_i)),accuracy_score(y_liar,model_svm_isot.predict(X_l))) "
   ]
  },
  {
   "cell_type": "markdown",
   "metadata": {},
   "source": [
    "Training on LIAR data and testing on ISOT data"
   ]
  },
  {
   "cell_type": "code",
   "execution_count": 54,
   "metadata": {},
   "outputs": [],
   "source": [
    "from sklearn.feature_extraction.text import TfidfVectorizer\n",
    "vectorizer = TfidfVectorizer(analyzer = 'word') \n",
    "X_l = vectorizer.fit_transform(liar['News'])\n",
    "X_i = vectorizer.transform(news['News'])\n",
    "X_train_l,X_test_l,y_train_l,y_test_l = train_test_split(X_l,liar['Label'])\n"
   ]
  },
  {
   "cell_type": "code",
   "execution_count": 55,
   "metadata": {},
   "outputs": [],
   "source": [
    "y_isot = news['label']"
   ]
  },
  {
   "cell_type": "code",
   "execution_count": 56,
   "metadata": {},
   "outputs": [
    {
     "data": {
      "text/plain": [
       "MultinomialNB()"
      ]
     },
     "execution_count": 56,
     "metadata": {},
     "output_type": "execute_result"
    }
   ],
   "source": [
    "model_nb_liar = MultinomialNB()\n",
    "model_nb_liar.fit(X_train_l,y_train_l) "
   ]
  },
  {
   "cell_type": "code",
   "execution_count": 57,
   "metadata": {},
   "outputs": [
    {
     "name": "stdout",
     "output_type": "stream",
     "text": [
      "0.6478653786226238 0.5295336095149005\n"
     ]
    }
   ],
   "source": [
    "print(accuracy_score(y_test_l,model_nb_liar.predict(X_test_l)),accuracy_score(y_isot,model_nb_liar.predict(X_i))) "
   ]
  },
  {
   "cell_type": "code",
   "execution_count": 58,
   "metadata": {},
   "outputs": [
    {
     "data": {
      "text/plain": [
       "LogisticRegression()"
      ]
     },
     "execution_count": 58,
     "metadata": {},
     "output_type": "execute_result"
    }
   ],
   "source": [
    "model_log_liar = LogisticRegression()\n",
    "model_log_liar.fit(X_train_l,y_train_l)"
   ]
  },
  {
   "cell_type": "code",
   "execution_count": 59,
   "metadata": {},
   "outputs": [
    {
     "name": "stdout",
     "output_type": "stream",
     "text": [
      "0.6593954502960424 0.5281749743863869\n"
     ]
    }
   ],
   "source": [
    "print(accuracy_score(y_test_l,model_log_liar.predict(X_test_l)),accuracy_score(y_isot,model_log_liar.predict(X_i))) "
   ]
  },
  {
   "cell_type": "code",
   "execution_count": 60,
   "metadata": {},
   "outputs": [
    {
     "data": {
      "text/plain": [
       "KNeighborsClassifier()"
      ]
     },
     "execution_count": 60,
     "metadata": {},
     "output_type": "execute_result"
    }
   ],
   "source": [
    "model_kn_liar = KNeighborsClassifier(n_neighbors=5)\n",
    "model_kn_liar.fit(X_train_l,y_train_l)"
   ]
  },
  {
   "cell_type": "code",
   "execution_count": 61,
   "metadata": {},
   "outputs": [
    {
     "name": "stdout",
     "output_type": "stream",
     "text": [
      "0.6191960112184481 0.5283308833355606\n"
     ]
    }
   ],
   "source": [
    "print(accuracy_score(y_test_l,model_kn_liar.predict(X_test_l)),accuracy_score(y_isot,model_kn_liar.predict(X_i))) "
   ]
  },
  {
   "cell_type": "code",
   "execution_count": 62,
   "metadata": {},
   "outputs": [
    {
     "data": {
      "text/plain": [
       "XGBClassifier(base_score=0.5, booster='gbtree', colsample_bylevel=1,\n",
       "              colsample_bynode=1, colsample_bytree=1, gamma=0, gpu_id=-1,\n",
       "              importance_type='gain', interaction_constraints='',\n",
       "              learning_rate=0.300000012, max_delta_step=0, max_depth=6,\n",
       "              min_child_weight=1, missing=nan, monotone_constraints='()',\n",
       "              n_estimators=100, n_jobs=0, num_parallel_tree=1, random_state=0,\n",
       "              reg_alpha=0, reg_lambda=1, scale_pos_weight=1, subsample=1,\n",
       "              tree_method='exact', validate_parameters=1, verbosity=None)"
      ]
     },
     "execution_count": 62,
     "metadata": {},
     "output_type": "execute_result"
    }
   ],
   "source": [
    "model_xgb_liar = XGBClassifier()\n",
    "model_xgb_liar.fit(X_train_l,y_train_l)"
   ]
  },
  {
   "cell_type": "code",
   "execution_count": 63,
   "metadata": {},
   "outputs": [
    {
     "name": "stdout",
     "output_type": "stream",
     "text": [
      "0.6593954502960424 0.5281749743863869\n"
     ]
    }
   ],
   "source": [
    "print(accuracy_score(y_test_l,model_log_liar.predict(X_test_l)),accuracy_score(y_isot,model_log_liar.predict(X_i))) "
   ]
  },
  {
   "cell_type": "code",
   "execution_count": 64,
   "metadata": {},
   "outputs": [
    {
     "data": {
      "text/plain": [
       "RandomForestClassifier()"
      ]
     },
     "execution_count": 64,
     "metadata": {},
     "output_type": "execute_result"
    }
   ],
   "source": [
    "model_rf_liar = RandomForestClassifier()\n",
    "model_rf_liar.fit(X_train_l,y_train_l)"
   ]
  },
  {
   "cell_type": "code",
   "execution_count": 65,
   "metadata": {},
   "outputs": [
    {
     "name": "stdout",
     "output_type": "stream",
     "text": [
      "0.6556559675911499 0.5690676644839414\n"
     ]
    }
   ],
   "source": [
    "print(accuracy_score(y_test_l,model_rf_liar.predict(X_test_l)),accuracy_score(y_isot,model_rf_liar.predict(X_i))) "
   ]
  },
  {
   "cell_type": "code",
   "execution_count": 66,
   "metadata": {},
   "outputs": [
    {
     "data": {
      "text/plain": [
       "DecisionTreeClassifier()"
      ]
     },
     "execution_count": 66,
     "metadata": {},
     "output_type": "execute_result"
    }
   ],
   "source": [
    "model_dt_liar = DecisionTreeClassifier()\n",
    "model_dt_liar.fit(X_train_l,y_train_l)"
   ]
  },
  {
   "cell_type": "code",
   "execution_count": 67,
   "metadata": {},
   "outputs": [
    {
     "name": "stdout",
     "output_type": "stream",
     "text": [
      "0.5758803365534434 0.5353467860483763\n"
     ]
    }
   ],
   "source": [
    "print(accuracy_score(y_test_l,model_dt_liar.predict(X_test_l)),accuracy_score(y_isot,model_dt_liar.predict(X_i))) "
   ]
  },
  {
   "cell_type": "code",
   "execution_count": 68,
   "metadata": {},
   "outputs": [
    {
     "data": {
      "text/plain": [
       "SVC()"
      ]
     },
     "execution_count": 68,
     "metadata": {},
     "output_type": "execute_result"
    }
   ],
   "source": [
    "model_svm_liar = SVC()\n",
    "model_svm_liar.fit(X_train_l,y_train_l)"
   ]
  },
  {
   "cell_type": "code",
   "execution_count": 69,
   "metadata": {},
   "outputs": [
    {
     "name": "stdout",
     "output_type": "stream",
     "text": [
      "0.6575257089435962 0.5246558866764667\n"
     ]
    }
   ],
   "source": [
    "print(accuracy_score(y_test_l,model_svm_liar.predict(X_test_l)),accuracy_score(y_isot,model_svm_liar.predict(X_i))) "
   ]
  },
  {
   "cell_type": "code",
   "execution_count": null,
   "metadata": {},
   "outputs": [],
   "source": []
  }
 ],
 "metadata": {
  "kernelspec": {
   "display_name": "Python 3",
   "language": "python",
   "name": "python3"
  },
  "language_info": {
   "codemirror_mode": {
    "name": "ipython",
    "version": 3
   },
   "file_extension": ".py",
   "mimetype": "text/x-python",
   "name": "python",
   "nbconvert_exporter": "python",
   "pygments_lexer": "ipython3",
   "version": "3.7.6"
  }
 },
 "nbformat": 4,
 "nbformat_minor": 4
}
